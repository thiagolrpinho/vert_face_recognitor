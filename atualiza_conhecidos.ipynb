{
 "cells": [
  {
   "cell_type": "markdown",
   "metadata": {},
   "source": [
    "# Atualiza Conhecidos\n",
    " -*- coding: utf-8 -*-\n",
    "\n",
    "Código desenvolvido para converter uma database de imagens em códigos de incorporações\n",
    "que depois podem ser comparados a fim de validar se um rosto pertence a uma pessoa \n",
    "ou não.\n",
    " \n",
    "\n",
    "**Autor:** Rodrigo Ferrari \n",
    "\n",
    "**Editores**: Thiago Luis Pinho, Lucas Moutinho\n",
    "\n",
    "**Last edit:** 2019/12/02"
   ]
  },
  {
   "cell_type": "markdown",
   "metadata": {},
   "source": [
    "### Realiza importações de bibliotecas auxiliares e da rede neural de códigos de incorporação"
   ]
  },
  {
   "cell_type": "code",
   "execution_count": 1,
   "metadata": {},
   "outputs": [
    {
     "name": "stderr",
     "output_type": "stream",
     "text": [
      "Using TensorFlow backend.\n"
     ]
    }
   ],
   "source": [
    "import keras_vggface\n",
    "# Importa a rede neural já treinada que gera os códigos de incorporação.\n",
    "# Caso você queira saber a versão, basta descomentar o código abaixo.\n",
    "# print(keras_vggface.__version__),\n",
    "import argparse\n",
    "import pickle\n",
    "from encoding_helpers import get_embeddings, store_codes_with_names"
   ]
  },
  {
   "cell_type": "markdown",
   "metadata": {},
   "source": [
    "### Converte as imagens da database em códigos de incorporação"
   ]
  },
  {
   "cell_type": "code",
   "execution_count": 4,
   "metadata": {},
   "outputs": [
    {
     "name": "stdout",
     "output_type": "stream",
     "text": [
      "[INFO] Contando rostos em database_conhecidos ...\n",
      "[INFO] Processando imagem 1/3\n",
      "[INFO] Processando imagem 2/3\n",
      "[INFO] Processando imagem 3/3\n"
     ]
    }
   ],
   "source": [
    "# Converte as imagens da database em códigos de incorporação\n",
    "embbedings, person_names, filenames, images = get_embeddings(\"database_conhecidos\")"
   ]
  },
  {
   "cell_type": "markdown",
   "metadata": {},
   "source": [
    "### Armazena os nomes e códigos de incorporação gerados no arquivo \"encodings.pickle\" que será usado como database de referência para códigos de imagens conhecidas"
   ]
  },
  {
   "cell_type": "code",
   "execution_count": 6,
   "metadata": {},
   "outputs": [],
   "source": [
    "# Itera sobre os códigos de incorporações\n",
    "dados_conhecidos = store_codes_with_names(embbedings, person_names, filenames, images)\n",
    "\n",
    "# Armazena os nomes e códigos gerados\n",
    "f = open(\"encodings.pickle\", \"wb\")\n",
    "f.write(pickle.dumps(dados_conhecidos))\n",
    "f.close()"
   ]
  },
  {
   "cell_type": "code",
   "execution_count": null,
   "metadata": {},
   "outputs": [],
   "source": []
  }
 ],
 "metadata": {
  "anaconda-cloud": {},
  "kernelspec": {
   "display_name": "Python 3",
   "language": "python",
   "name": "python3"
  },
  "language_info": {
   "codemirror_mode": {
    "name": "ipython",
    "version": 3
   },
   "file_extension": ".py",
   "mimetype": "text/x-python",
   "name": "python",
   "nbconvert_exporter": "python",
   "pygments_lexer": "ipython3",
   "version": "3.6.8"
  }
 },
 "nbformat": 4,
 "nbformat_minor": 1
}
