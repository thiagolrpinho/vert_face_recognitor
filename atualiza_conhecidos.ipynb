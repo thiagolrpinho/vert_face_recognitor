{
  "cells": [
    {
      "cell_type": "code",
      "metadata": {},
      "source": [
        "# -*- coding: utf-8 -*-\n",
        "\n",
        "# C\u00f3digo desenvolvido para converter uma database de imagens em c\u00f3digos de incorpora\u00e7\u00f5es\n",
        "# que depois podem ser comparados a fim de validar se um rosto pertence a uma pessoa \n",
        "# ou n\u00e3o.\n",
        "\n",
        "# @Autor: rodrigo.ferrari\n",
        "# @Editor: Thiago Luis Pinho\n",
        "# Last edit: 2019/10/29\n",
        "\n",
        "\n",
        "\n",
        "import keras_vggface\n",
        "# Importa a rede neural j\u00e1 treinada que gera os c\u00f3digos de incorpora\u00e7\u00e3o.\n",
        "# Caso voc\u00ea queira saber a vers\u00e3o, basta descomentar o c\u00f3digo abaixo.\n",
        "# print(keras_vggface.__version__),\n",
        "\n",
        "import argparse\n",
        "import pickle\n",
        "from encoding_helpers import get_embeddings, store_codes_with_names\n",
        "\n",
        "# Parte do c\u00f3digo respons\u00e1vel por criar e configurar os argumentos para a chamada no terminal\n",
        "ap = argparse.ArgumentParser()\n",
        "ap.add_argument(\"-db\", \"--database\", default=\"database_conhecidos\",\n",
        "  help=\"path to input directory of faces + images\")\n",
        "ap.add_argument(\"-e\", \"--encodings\", default=\"encodings.pickle\",\n",
        "  help=\"path to serialized db of facial encodings\")\n",
        "ap.add_argument(\"-d\", \"--detection-method\", type=str, default=\"cnn\",\n",
        "  help=\"face detection model to use: either `hog` or `cnn`\")\n",
        "args = vars(ap.parse_args())\n",
        "\n",
        "# Converte as imagens da database em c\u00f3digos de incorpora\u00e7\u00e3o\n",
        "embbedings, person_names, filenames, images = get_embeddings(args[\"database\"])\n",
        "\n",
        "\n",
        "# Itera sobre os c\u00f3digos de incorpora\u00e7\u00f5es\n",
        "\n",
        "dados_conhecidos = store_codes_with_names(embbedings, person_names, filenames, images)\n",
        "\n",
        "# Armazena os nomes e c\u00f3digos gerados\n",
        "f = open(args[\"encodings\"], \"wb\")\n",
        "f.write(pickle.dumps(dados_conhecidos))\n",
        "f.close()"
      ],
      "outputs": [],
      "execution_count": null
    }
  ],
  "metadata": {
    "anaconda-cloud": {},
    "kernelspec": {
      "display_name": "Python 3",
      "language": "python",
      "name": "python3"
    },
    "language_info": {
      "codemirror_mode": {
        "name": "ipython",
        "version": 3
      },
      "file_extension": ".py",
      "mimetype": "text/x-python",
      "name": "python",
      "nbconvert_exporter": "python",
      "pygments_lexer": "ipython3",
      "version": "3.6.1"
    }
  },
  "nbformat": 4,
  "nbformat_minor": 1
}
