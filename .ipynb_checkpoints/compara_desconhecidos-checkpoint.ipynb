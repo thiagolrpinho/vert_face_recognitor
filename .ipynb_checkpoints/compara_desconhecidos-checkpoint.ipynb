{
 "cells": [
  {
   "cell_type": "markdown",
   "metadata": {},
   "source": [
    "# Compara Desconhecidos\n",
    " -*- coding: utf-8 -*-\n",
    "\n",
    "Código desenvolvido para comparar uma imagem de um rosto( o nome do arquivo deve ser o nome da pessoa)\n",
    "com uma database já convertida em código de incorporação\n",
    "e valida se é a mesma pessoa ou não.\n",
    " \n",
    "\n",
    "**Autor:** Rodrigo Ferrari \n",
    "\n",
    "**Editores**: Thiago Luis Pinho, Lucas Moutinho\n",
    "\n",
    "**Last edit:** 2019/12/02\n"
   ]
  },
  {
   "cell_type": "code",
   "execution_count": null,
   "metadata": {},
   "outputs": [],
   "source": [
    "import argparse\n",
    "import pickle\n",
    "from encoding_helpers import get_embeddings, is_match, store_codes_with_names\n",
    "from image_helpers import save_image"
   ]
  },
  {
   "cell_type": "markdown",
   "metadata": {},
   "source": [
    "## Configurando variáveis de comportamento para o código"
   ]
  },
  {
   "cell_type": "code",
   "execution_count": null,
   "metadata": {},
   "outputs": [],
   "source": [
    "args = {\"image\" : \"database_comparacao\" # Caminho para a database de imagens a serem comparadas\"\n",
    "        , \"encodings\" : \"encodings.pickle\" # Caminho para uma database serializada com os códigos de incorporação das faces\n",
    "        , \"detection-method\" : \"cnn\"    # Modelo de detecção facial a ser usado 'cnn' ou 'hog'\n",
    "}"
   ]
  },
  {
   "cell_type": "markdown",
   "metadata": {},
   "source": [
    "### Carregando códigos de Incorporação da base de dados conhecida"
   ]
  },
  {
   "cell_type": "code",
   "execution_count": null,
   "metadata": {},
   "outputs": [],
   "source": [
    "print(\"[INFO] Carregando dados de pessoas conhecidas...\")\n",
    "dados_conhecidos = pickle.loads(open(args[\"encodings\"], \"rb\").read())\n",
    "\n",
    "unknown_encodings, unknown_names, unknown_filenames, unknown_images = get_embeddings(args[\"image\"])"
   ]
  },
  {
   "cell_type": "markdown",
   "metadata": {},
   "source": [
    "### Comparamos as pessoas com seus respectivos registros na base de dados conhecida"
   ]
  },
  {
   "cell_type": "code",
   "execution_count": null,
   "metadata": {
    "scrolled": false
   },
   "outputs": [],
   "source": [
    "# Organizamos as prováveis pessoas por nome com seus respectivos códigos e nome do arquivo\n",
    "dados_comparacao = store_codes_with_names(unknown_encodings, unknown_names, unknown_filenames, unknown_images)\n",
    "\n",
    "for pessoa_comparada in dados_comparacao.keys():\n",
    "  # Primeiro procuramos em database pela pessoa a ser comparada\n",
    "  if pessoa_comparada in dados_conhecidos:\n",
    "    dados_por_pessoa = dados_conhecidos[ pessoa_comparada ]\n",
    "    \n",
    "    for codigo_comparado, nome_arquivo_comparado, imagem_comparada in dados_comparacao [pessoa_comparada]:\n",
    "    # Depois iteramos pelas imagens a serem comparadas da mesma pessoa\n",
    "      matches = []\n",
    "      for codigo_conhecido, nome_arquivo_conhecido, imagem_conhecida in dados_por_pessoa:\n",
    "        # Nós armazenamos os resultados em uma lista\n",
    "        matches.append( is_match( codigo_comparado, codigo_conhecido ) )\n",
    "\n",
    "      if( matches.count(True) >= len(matches)/2 ):\n",
    "        # Se mais que a metade dos rostos baterem, consideramos a pessoa como a mesma\n",
    "        print( \"A imagem \" + nome_arquivo_comparado + \" é do \" + pessoa_comparada )\n",
    "        # Salva imagem comparada e conhecida na pasta de comparações aprovadas\n",
    "        save_image(imagem_comparada, nome_arquivo_comparado, nome_arquivo_conhecido, nome_database = \"aprovadas\")\n",
    "      else: \n",
    "        print( \"A imagem \" + nome_arquivo_comparado + \" não é do \" + pessoa_comparada )\n",
    "        # Salva imagem comparada e conhecida na pasta de comparações vetadas\n",
    "        save_image(imagem_comparada, nome_arquivo_comparado, nome_arquivo_conhecido, nome_database = \"vetadas\")\n",
    "\n",
    "\n",
    "  else: \n",
    "    # Caso a pessoa não seja encontrada na base de dados conhecida, ela não é comparada \n",
    "    # e um aviso é emitido no terminal\n",
    "    dados_pessoa_sem_comparacao = dados_comparacao[pessoa_comparada]\n",
    "    print(\"A pessoa \" + pessoa_comparada + \" não foi encontrada na base de dados conhecida.\")\n",
    "    for codigo_sem_comparacao, nome_arquivo_nao_comparado, imagem_sem_comparacao in dados_pessoa_sem_comparacao:\n",
    "      print(\"A imagem com nome \" + nome_arquivo_nao_comparado + \" não teve uma pessoa encontrada na database correspondente\")\n",
    "\n"
   ]
  },
  {
   "cell_type": "code",
   "execution_count": null,
   "metadata": {},
   "outputs": [],
   "source": []
  }
 ],
 "metadata": {
  "anaconda-cloud": {},
  "kernelspec": {
   "display_name": "Python 3",
   "language": "python",
   "name": "python3"
  },
  "language_info": {
   "codemirror_mode": {
    "name": "ipython",
    "version": 3
   },
   "file_extension": ".py",
   "mimetype": "text/x-python",
   "name": "python",
   "nbconvert_exporter": "python",
   "pygments_lexer": "ipython3",
   "version": "3.6.9"
  }
 },
 "nbformat": 4,
 "nbformat_minor": 1
}
