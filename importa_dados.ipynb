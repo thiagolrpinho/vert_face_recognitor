{
 "cells": [
  {
   "cell_type": "markdown",
   "metadata": {},
   "source": [
    "# Importação de Dados\n",
    "Script desenvolvido pela equipe de Analytics da Vert para fácil importação de dados para o ambiente de desenvolvimento. \n",
    "Basta subir os dados para a esse mesmo diretório no formato .zip. \n",
    "Depois mudar a variável \"nome_arquivo_zipado\" para o nome do arquivo com os dados."
   ]
  },
  {
   "cell_type": "code",
   "execution_count": 19,
   "metadata": {},
   "outputs": [],
   "source": [
    "from os import listdir, getcwd\n",
    "from os.path import isfile, join\n",
    "import zipfile as zf\n",
    "nome_arquivo_zipado = \"vert_face_recognitor.zip\"\n"
   ]
  },
  {
   "cell_type": "code",
   "execution_count": 23,
   "metadata": {},
   "outputs": [
    {
     "name": "stdout",
     "output_type": "stream",
     "text": [
      "Diretório atual é : /opt/jupyter/Vert Face Recognitor\n",
      "['Arquivos disponíveis nesse diretório: ', 'atualiza_conhecidos.ipynb', 'compara_desconhecidos.ipynb', 'vert_face_recognitor.zip', 'encoding_helpers.ipynb', 'importa_dados.ipynb', 'image_helpers.ipynb']\n"
     ]
    }
   ],
   "source": [
    "diretorio_atual= getcwd()\n",
    "onlyfiles = [f for f in listdir(diretorio_atual) if isfile(join(diretorio_atual, f))]\n",
    "print(\"Diretório atual é : \" + diretorio_atual ) \n",
    "print([\"Arquivos disponíveis nesse diretório: \"] + onlyfiles)\n"
   ]
  },
  {
   "cell_type": "code",
   "execution_count": 5,
   "metadata": {},
   "outputs": [],
   "source": [
    "files = zf.ZipFile(zipado, 'r')\n",
    "files.extractall('.')\n",
    "files.close()"
   ]
  }
 ],
 "metadata": {
  "kernelspec": {
   "display_name": "Python 3",
   "language": "python",
   "name": "python3"
  },
  "language_info": {
   "codemirror_mode": {
    "name": "ipython",
    "version": 3
   },
   "file_extension": ".py",
   "mimetype": "text/x-python",
   "name": "python",
   "nbconvert_exporter": "python",
   "pygments_lexer": "ipython3",
   "version": "3.6.8"
  }
 },
 "nbformat": 4,
 "nbformat_minor": 2
}
